{
 "cells": [
  {
   "cell_type": "markdown",
   "id": "b7786709",
   "metadata": {},
   "source": [
    "4.1: Choose a number between 1 and 10 and assign it to the variable secret..."
   ]
  },
  {
   "cell_type": "code",
   "execution_count": 7,
   "id": "f7241557",
   "metadata": {},
   "outputs": [
    {
     "name": "stdout",
     "output_type": "stream",
     "text": [
      "guess: 4    secret: 1\n",
      "too high\n"
     ]
    }
   ],
   "source": [
    "import random\n",
    "secret = random.choice (range(1,10))\n",
    "guess = random.choice (range(1,10))\n",
    "print('guess:', guess, '   secret:', secret)\n",
    "if (guess < secret):\n",
    "    print ('too low')\n",
    "elif (guess > secret):\n",
    "    print ('too high')\n",
    "else:\n",
    "    print ('just right')"
   ]
  },
  {
   "cell_type": "markdown",
   "id": "14f2e793",
   "metadata": {},
   "source": [
    "4.2: Assign True or False to the variables small and green. Write some if/else statements..."
   ]
  },
  {
   "cell_type": "code",
   "execution_count": 12,
   "id": "4649a988",
   "metadata": {},
   "outputs": [
    {
     "name": "stdout",
     "output_type": "stream",
     "text": [
      "small: True    green: True\n",
      "pea\n"
     ]
    }
   ],
   "source": [
    "import random\n",
    "small = random.choice ((True, False))\n",
    "green = random.choice ((True, False))\n",
    "print('small:', small, '   green:', green)\n",
    "if (small):\n",
    "    if (green):\n",
    "        print('pea')\n",
    "    else:\n",
    "        print('cherry')\n",
    "else: # not small\n",
    "    if (green):\n",
    "        print('watermelon')\n",
    "    else:\n",
    "        print('pumpkin')"
   ]
  },
  {
   "cell_type": "markdown",
   "id": "14be0416",
   "metadata": {},
   "source": [
    "6.1: Use a for loop to print the values of the list [3, 2, 1, 0]"
   ]
  },
  {
   "cell_type": "code",
   "execution_count": 13,
   "id": "08ecdd97",
   "metadata": {},
   "outputs": [
    {
     "name": "stdout",
     "output_type": "stream",
     "text": [
      "3\n",
      "2\n",
      "1\n",
      "0\n"
     ]
    }
   ],
   "source": [
    "for n in [3, 2, 1, 0]:\n",
    "    print(n)"
   ]
  },
  {
   "cell_type": "markdown",
   "id": "8d91cb65",
   "metadata": {},
   "source": [
    "6.2: Assign the value 7 to the variable guess_me, and the value 1 to the variable number. Write a while loop that compares number with guess_me..."
   ]
  },
  {
   "cell_type": "code",
   "execution_count": 5,
   "id": "b148929d",
   "metadata": {},
   "outputs": [
    {
     "name": "stdout",
     "output_type": "stream",
     "text": [
      "number: 1\n",
      "too low\n",
      "number: 2\n",
      "too low\n",
      "number: 3\n",
      "too low\n",
      "number: 4\n",
      "too low\n",
      "number: 5\n",
      "too low\n",
      "number: 6\n",
      "too low\n",
      "number: 7\n",
      "found it!\n",
      "number: 8\n",
      "oops, too large\n"
     ]
    }
   ],
   "source": [
    "guess_me = 7\n",
    "number = 1\n",
    "while (number <= 10): # test all numbers 1 to 10 until the right guess found)\n",
    "#  while (number != guess_me):\n",
    "    print('number:', number)\n",
    "    if (number < guess_me): \n",
    "       print ('too low')\n",
    "    elif (number > guess_me): \n",
    "       print ('oops, too large')\n",
    "       break\n",
    "    else:  # (number == guess_me)\n",
    "        print ('found it!')\n",
    "        #intentionally NOT doing as the assignment said here, not breaking out of the loop, so we can test the \"oops\"\n",
    "    number += 1    "
   ]
  },
  {
   "cell_type": "markdown",
   "id": "cd8e11ac",
   "metadata": {},
   "source": [
    "6.3 Assign the value 5 to the variable guess_me. Use a for loop to iterate a variable called number over range(10)..."
   ]
  },
  {
   "cell_type": "code",
   "execution_count": 9,
   "id": "fed64076",
   "metadata": {},
   "outputs": [
    {
     "name": "stdout",
     "output_type": "stream",
     "text": [
      "number: 0\n",
      "too low\n",
      "number: 1\n",
      "too low\n",
      "number: 2\n",
      "too low\n",
      "number: 3\n",
      "too low\n",
      "number: 4\n",
      "too low\n",
      "number: 5\n",
      "found it!\n",
      "number: 6\n",
      "oops, too large\n",
      "number: 7\n",
      "oops, too large\n",
      "number: 8\n",
      "oops, too large\n",
      "number: 9\n",
      "oops, too large\n"
     ]
    }
   ],
   "source": [
    "guess_me = 5\n",
    "for number in range(10): # test all numbers 1 to 10 until the right guess found)\n",
    "    print('number:', number)\n",
    "    if (number < guess_me): \n",
    "       print ('too low')\n",
    "    elif (number > guess_me): \n",
    "       print ('oops, too large')\n",
    "       # break  #intentionally NOT doing as the assignment said here, not breaking out of the loop,\n",
    "    else:  # (number == guess_me)\n",
    "       print ('found it!')\n",
    "       # break #intentionally NOT doing as the assignment said here, not breaking out of the loop, so we can test the \"oops\"\n",
    "#else:\n",
    "#    print(\"No match found.\")"
   ]
  },
  {
   "cell_type": "code",
   "execution_count": null,
   "id": "32a78bc4",
   "metadata": {},
   "outputs": [],
   "source": []
  }
 ],
 "metadata": {
  "kernelspec": {
   "display_name": "Python 3 (ipykernel)",
   "language": "python",
   "name": "python3"
  },
  "language_info": {
   "codemirror_mode": {
    "name": "ipython",
    "version": 3
   },
   "file_extension": ".py",
   "mimetype": "text/x-python",
   "name": "python",
   "nbconvert_exporter": "python",
   "pygments_lexer": "ipython3",
   "version": "3.11.5"
  }
 },
 "nbformat": 4,
 "nbformat_minor": 5
}
